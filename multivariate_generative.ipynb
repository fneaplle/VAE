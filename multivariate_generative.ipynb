{
  "nbformat": 4,
  "nbformat_minor": 0,
  "metadata": {
    "colab": {
      "name": "multivariate_generative.ipynb",
      "provenance": [],
      "authorship_tag": "ABX9TyNw0SOarwuVQewu+vklwMpW",
      "include_colab_link": true
    },
    "kernelspec": {
      "name": "python3",
      "display_name": "Python 3"
    },
    "language_info": {
      "name": "python"
    }
  },
  "cells": [
    {
      "cell_type": "markdown",
      "metadata": {
        "id": "view-in-github",
        "colab_type": "text"
      },
      "source": [
        "<a href=\"https://colab.research.google.com/github/fneaplle/VAE/blob/main/multivariate_generative.ipynb\" target=\"_parent\"><img src=\"https://colab.research.google.com/assets/colab-badge.svg\" alt=\"Open In Colab\"/></a>"
      ]
    },
    {
      "cell_type": "code",
      "metadata": {
        "id": "uyHk3m1P3wa_"
      },
      "source": [
        "import tensorflow as tf\n",
        "from scipy.stats import multivariate_normal"
      ],
      "execution_count": 76,
      "outputs": []
    },
    {
      "cell_type": "code",
      "metadata": {
        "id": "0zXh-YSO374d"
      },
      "source": [
        "from tensorflow.keras import datasets, layers, models\n",
        "(train_images, train_labels), (test_images, test_labels) = datasets.mnist.load_data()\n",
        "\n",
        "train_images = train_images.reshape((60000, 28, 28, 1))\n",
        "test_images = test_images.reshape((10000, 28, 28, 1))\n",
        "\n",
        "#픽셀 값을 0~1 사이로 정규화합니다.\n",
        "train_images, test_images = train_images / 255.0, test_images / 255.0"
      ],
      "execution_count": 123,
      "outputs": []
    },
    {
      "cell_type": "code",
      "metadata": {
        "id": "laVIgTDTEMCl"
      },
      "source": [
        "ds = []\n",
        "for i in range(60000):\n",
        "  if train_labels[i] == 1:\n",
        "    ds.append(train_images[i][np.newaxis,...])"
      ],
      "execution_count": 124,
      "outputs": []
    },
    {
      "cell_type": "code",
      "metadata": {
        "id": "pqfP-ACjEjik"
      },
      "source": [
        "ds = np.concatenate(ds, axis=0)"
      ],
      "execution_count": 125,
      "outputs": []
    },
    {
      "cell_type": "code",
      "metadata": {
        "colab": {
          "base_uri": "https://localhost:8080/"
        },
        "id": "WpqZn7VTEusQ",
        "outputId": "8ca7fbcc-a8e4-446f-c447-a30653b4d5eb"
      },
      "source": [
        "ds.shape"
      ],
      "execution_count": 126,
      "outputs": [
        {
          "output_type": "execute_result",
          "data": {
            "text/plain": [
              "(6742, 28, 28, 1)"
            ]
          },
          "metadata": {},
          "execution_count": 126
        }
      ]
    },
    {
      "cell_type": "code",
      "metadata": {
        "id": "R224aPSB4HVK"
      },
      "source": [
        "import matplotlib.pyplot as plt\n",
        "plt.imshow(ds[0][:,:,0], cmap='gray')"
      ],
      "execution_count": null,
      "outputs": []
    },
    {
      "cell_type": "code",
      "metadata": {
        "id": "K-Mum4Pe-to_"
      },
      "source": [
        "X=np.array(tf.keras.layers.Flatten()(ds))"
      ],
      "execution_count": 130,
      "outputs": []
    },
    {
      "cell_type": "code",
      "metadata": {
        "id": "DvyXyVXQ_Knv"
      },
      "source": [
        "mu = np.average(X, axis=0)\n",
        "cov = np.cov(X, rowvar=False)\n",
        "rv = multivariate_normal(mu, cov, allow_singular=True)"
      ],
      "execution_count": 131,
      "outputs": []
    },
    {
      "cell_type": "code",
      "metadata": {
        "colab": {
          "base_uri": "https://localhost:8080/",
          "height": 284
        },
        "id": "OJsJUjNAD4Un",
        "outputId": "9a80ba57-6985-4d43-9a5e-f17002bc8baa"
      },
      "source": [
        "sample = rv.rvs()\n",
        "plt.imshow(sample.reshape((28,28)))"
      ],
      "execution_count": 135,
      "outputs": [
        {
          "output_type": "execute_result",
          "data": {
            "text/plain": [
              "<matplotlib.image.AxesImage at 0x7f457ad62250>"
            ]
          },
          "metadata": {},
          "execution_count": 135
        },
        {
          "output_type": "display_data",
          "data": {
            "image/png": "[encoded data removed]",
            "text/plain": [
              "<Figure size 432x288 with 1 Axes>"
            ]
          },
          "metadata": {
            "needs_background": "light"
          }
        }
      ]
    }
  ]
}